{
 "cells": [
  {
   "cell_type": "markdown",
   "metadata": {},
   "source": [
    "# Use pure numpy array"
   ]
  },
  {
   "cell_type": "markdown",
   "metadata": {},
   "source": [
    "Despite the \"x\" in its name (indicating xarray-compatible), xESMF can also work with basic numpy arrays. You don't have to use xarray data structure if you don't need to track metadata. As long as you have numpy arrays describing the input data and input/output coordinate values, you can perform regridding.\n",
    "\n",
    "Code in this section is adapted from [an xarray example](http://xarray.pydata.org/en/stable/plotting.html#multidimensional-coordinates)."
   ]
  },
  {
   "cell_type": "code",
   "execution_count": 1,
   "metadata": {
    "collapsed": true
   },
   "outputs": [],
   "source": [
    "# not importing xarray here!\n",
    "%matplotlib inline\n",
    "import matplotlib.pyplot as plt\n",
    "import numpy as np\n",
    "import xesmf as xe"
   ]
  },
  {
   "cell_type": "markdown",
   "metadata": {},
   "source": [
    "## Rectilinear grid"
   ]
  },
  {
   "cell_type": "markdown",
   "metadata": {},
   "source": [
    "### Input data"
   ]
  },
  {
   "cell_type": "markdown",
   "metadata": {},
   "source": [
    "Just make some fake data."
   ]
  },
  {
   "cell_type": "code",
   "execution_count": 2,
   "metadata": {},
   "outputs": [
    {
     "data": {
      "text/plain": [
       "<matplotlib.collections.QuadMesh at 0x1180e7b38>"
      ]
     },
     "execution_count": 2,
     "metadata": {},
     "output_type": "execute_result"
    },
    {
     "data": {
      "image/png": "[encoded data removed]",
      "text/plain": [
       "<matplotlib.figure.Figure at 0x117adbba8>"
      ]
     },
     "metadata": {},
     "output_type": "display_data"
    }
   ],
   "source": [
    "data = np.arange(20).reshape(4, 5)\n",
    "plt.pcolormesh(data)"
   ]
  },
  {
   "cell_type": "markdown",
   "metadata": {},
   "source": [
    "### Define grids"
   ]
  },
  {
   "cell_type": "markdown",
   "metadata": {},
   "source": [
    "In previous examples we use xarray `DataSet` as input/output grids. But you can also use a simple dictionary:"
   ]
  },
  {
   "cell_type": "code",
   "execution_count": 3,
   "metadata": {
    "collapsed": true
   },
   "outputs": [],
   "source": [
    "grid_in = {'lon': np.linspace(0, 40, 5),\n",
    "           'lat': np.linspace(0, 20, 4)\n",
    "          }\n",
    "\n",
    "# output grid has a larger coverage and finer resolution\n",
    "grid_out = {'lon': np.linspace(-20, 60, 51),\n",
    "            'lat': np.linspace(-10, 30, 41)\n",
    "           }"
   ]
  },
  {
   "cell_type": "markdown",
   "metadata": {},
   "source": [
    "### Perform regridding"
   ]
  },
  {
   "cell_type": "code",
   "execution_count": 4,
   "metadata": {},
   "outputs": [
    {
     "name": "stdout",
     "output_type": "stream",
     "text": [
      "Create weight file: bilinear_4x5_41x51.nc\n",
      "Remove file bilinear_4x5_41x51.nc\n"
     ]
    },
    {
     "data": {
      "text/plain": [
       "xESMF Regridder \n",
       "Regridding algorithm:       bilinear \n",
       "Weight filename:            bilinear_4x5_41x51.nc \n",
       "Reuse pre-computed weights? False \n",
       "Input grid shape:           (4, 5) \n",
       "Output grid shape:          (41, 51) \n",
       "Output grid dimension name: ('lat', 'lon') \n",
       "Periodic in longitude?      False"
      ]
     },
     "execution_count": 4,
     "metadata": {},
     "output_type": "execute_result"
    }
   ],
   "source": [
    "regridder = xe.Regridder(grid_in, grid_out, 'bilinear')\n",
    "regridder.clean_weight_file()\n",
    "regridder "
   ]
  },
  {
   "cell_type": "markdown",
   "metadata": {},
   "source": [
    "The `regridder` here has no difference from the ones made from xarray `DataSet`. You can use it to regrid `DataArray` or just a basic `numpy.ndarray`:"
   ]
  },
  {
   "cell_type": "code",
   "execution_count": 5,
   "metadata": {},
   "outputs": [
    {
     "data": {
      "text/plain": [
       "(41, 51)"
      ]
     },
     "execution_count": 5,
     "metadata": {},
     "output_type": "execute_result"
    }
   ],
   "source": [
    "data_out = regridder(data)  # regrid a basic numpy array\n",
    "data_out.shape"
   ]
  },
  {
   "cell_type": "markdown",
   "metadata": {},
   "source": [
    "### Check results"
   ]
  },
  {
   "cell_type": "code",
   "execution_count": 6,
   "metadata": {},
   "outputs": [
    {
     "data": {
      "text/plain": [
       "<matplotlib.collections.QuadMesh at 0x118c42e10>"
      ]
     },
     "execution_count": 6,
     "metadata": {},
     "output_type": "execute_result"
    },
    {
     "data": {
      "image/png": "[encoded data removed]",
      "text/plain": [
       "<matplotlib.figure.Figure at 0x1121f96a0>"
      ]
     },
     "metadata": {},
     "output_type": "display_data"
    }
   ],
   "source": [
    "plt.pcolormesh(data_out)"
   ]
  },
  {
   "cell_type": "markdown",
   "metadata": {},
   "source": [
    "## Curvilinear grid"
   ]
  },
  {
   "cell_type": "markdown",
   "metadata": {},
   "source": [
    "### Grids"
   ]
  },
  {
   "cell_type": "markdown",
   "metadata": {},
   "source": [
    "We use the previous input data, but now assume it is on a curvilinear grid described by 2D arrays. We also computed the cell corners, for two purposes:\n",
    "\n",
    "- Visualization with `plt.pcolormesh` (using cell centers will miss one row&column)\n",
    "- Conservative regridding with xESMF (corner information is required for conservative method)"
   ]
  },
  {
   "cell_type": "code",
   "execution_count": 7,
   "metadata": {
    "collapsed": true
   },
   "outputs": [],
   "source": [
    "# cell centers\n",
    "lon, lat = np.meshgrid(np.linspace(-20, 20, 5), np.linspace(0, 30, 4))\n",
    "lon += lat/3\n",
    "lat += lon/3\n",
    "\n",
    "# cell corners\n",
    "lon_b, lat_b = np.meshgrid(np.linspace(-25, 25, 6), np.linspace(-5, 35, 5))\n",
    "lon_b += lat_b/3\n",
    "lat_b += lon_b/3"
   ]
  },
  {
   "cell_type": "code",
   "execution_count": 8,
   "metadata": {},
   "outputs": [
    {
     "data": {
      "text/plain": [
       "<matplotlib.text.Text at 0x118c94a20>"
      ]
     },
     "execution_count": 8,
     "metadata": {},
     "output_type": "execute_result"
    },
    {
     "data": {
      "image/png": "[encoded data removed]",
      "text/plain": [
       "<matplotlib.figure.Figure at 0x118c67f98>"
      ]
     },
     "metadata": {},
     "output_type": "display_data"
    }
   ],
   "source": [
    "plt.pcolormesh(lon_b, lat_b, data)\n",
    "plt.scatter(lon, lat)  # show cell center\n",
    "plt.xlabel('lon')\n",
    "plt.ylabel('lat')"
   ]
  },
  {
   "cell_type": "markdown",
   "metadata": {},
   "source": [
    "For the output grid, just use a simple rectilinear one:"
   ]
  },
  {
   "cell_type": "code",
   "execution_count": 9,
   "metadata": {
    "collapsed": true
   },
   "outputs": [],
   "source": [
    "lon_out_b = np.linspace(-30, 40, 36)  # bounds \n",
    "lon_out = 0.5*(lon_out_b[1:]+lon_out_b[:-1]) # centers\n",
    "\n",
    "lat_out_b = np.linspace(-20, 50, 36)\n",
    "lat_out = 0.5*(lat_out_b[1:]+lat_out_b[:-1])"
   ]
  },
  {
   "cell_type": "markdown",
   "metadata": {},
   "source": [
    "To use conservative algorithm, both input and output grids should contain 4 variables: `lon`, `lat`, `lon_b`, `lon_b`."
   ]
  },
  {
   "cell_type": "code",
   "execution_count": 10,
   "metadata": {
    "collapsed": true
   },
   "outputs": [],
   "source": [
    "grid_in = {'lon': lon, 'lat': lat,\n",
    "           'lon_b': lon_b, 'lat_b': lat_b}\n",
    "\n",
    "grid_out = {'lon': lon_out, 'lat': lat_out,\n",
    "           'lon_b': lon_out_b, 'lat_b': lat_out_b}"
   ]
  },
  {
   "cell_type": "markdown",
   "metadata": {},
   "source": [
    "### Regridding"
   ]
  },
  {
   "cell_type": "code",
   "execution_count": 11,
   "metadata": {},
   "outputs": [
    {
     "name": "stdout",
     "output_type": "stream",
     "text": [
      "Create weight file: conservative_4x5_35x35.nc\n",
      "Remove file conservative_4x5_35x35.nc\n"
     ]
    },
    {
     "data": {
      "text/plain": [
       "xESMF Regridder \n",
       "Regridding algorithm:       conservative \n",
       "Weight filename:            conservative_4x5_35x35.nc \n",
       "Reuse pre-computed weights? False \n",
       "Input grid shape:           (4, 5) \n",
       "Output grid shape:          (35, 35) \n",
       "Output grid dimension name: ('lat', 'lon') \n",
       "Periodic in longitude?      False"
      ]
     },
     "execution_count": 11,
     "metadata": {},
     "output_type": "execute_result"
    }
   ],
   "source": [
    "regridder = xe.Regridder(grid_in, grid_out, 'conservative')\n",
    "regridder.clean_weight_file()\n",
    "regridder "
   ]
  },
  {
   "cell_type": "code",
   "execution_count": 12,
   "metadata": {},
   "outputs": [
    {
     "data": {
      "text/plain": [
       "(35, 35)"
      ]
     },
     "execution_count": 12,
     "metadata": {},
     "output_type": "execute_result"
    }
   ],
   "source": [
    "data_out = regridder(data)\n",
    "data_out.shape"
   ]
  },
  {
   "cell_type": "markdown",
   "metadata": {},
   "source": [
    "### Results"
   ]
  },
  {
   "cell_type": "code",
   "execution_count": 13,
   "metadata": {},
   "outputs": [
    {
     "data": {
      "text/plain": [
       "<matplotlib.text.Text at 0x118d636a0>"
      ]
     },
     "execution_count": 13,
     "metadata": {},
     "output_type": "execute_result"
    },
    {
     "data": {
      "image/png": "[encoded data removed]",
      "text/plain": [
       "<matplotlib.figure.Figure at 0x118d84d68>"
      ]
     },
     "metadata": {},
     "output_type": "display_data"
    }
   ],
   "source": [
    "plt.pcolormesh(lon_out_b, lat_out_b, data_out)\n",
    "plt.xlabel('lon')\n",
    "plt.ylabel('lat')"
   ]
  },
  {
   "cell_type": "markdown",
   "metadata": {},
   "source": [
    "## All possible combinations"
   ]
  },
  {
   "cell_type": "markdown",
   "metadata": {},
   "source": [
    "All $2 \\times 2\\times 2 = 8$ combinations would work:\n",
    "\n",
    "- Input grid: `xarray.DataSet` or `dict`\n",
    "- Output grid: `xarray.DataSet` or `dict`\n",
    "- Input data: `xarray.DataArray` or `numpy.ndarray`\n",
    "\n",
    "The output data type will be the same as input data."
   ]
  }
 ],
 "metadata": {
  "kernelspec": {
   "display_name": "Python 3",
   "language": "python",
   "name": "python3"
  },
  "language_info": {
   "codemirror_mode": {
    "name": "ipython",
    "version": 3
   },
   "file_extension": ".py",
   "mimetype": "text/x-python",
   "name": "python",
   "nbconvert_exporter": "python",
   "pygments_lexer": "ipython3",
   "version": "3.6.2"
  },
  "toc": {
   "nav_menu": {},
   "number_sections": true,
   "sideBar": false,
   "skip_h1_title": false,
   "toc_cell": false,
   "toc_position": {
    "height": "200px",
    "left": "2px",
    "right": "20px",
    "top": "101px",
    "width": "212px"
   },
   "toc_section_display": "block",
   "toc_window_display": false
  }
 },
 "nbformat": 4,
 "nbformat_minor": 2
}
