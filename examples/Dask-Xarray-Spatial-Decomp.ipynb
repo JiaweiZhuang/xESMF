{
 "cells": [
  {
   "cell_type": "markdown",
   "metadata": {},
   "source": []
  },
  {
   "cell_type": "code",
   "execution_count": null,
   "metadata": {
    "collapsed": true
   },
   "outputs": [],
   "source": [
    "import os\n",
    "import tempfile\n",
    "\n",
    "import dask\n",
    "import ocgis\n",
    "from ocgis.spatial.grid_chunker import GridChunker\n",
    "from ocgis.test import create_gridxy_global, create_exact_field\n",
    "import numpy as np"
   ]
  },
  {
   "cell_type": "markdown",
   "metadata": {},
   "source": []
  },
  {
   "cell_type": "code",
   "execution_count": null,
   "metadata": {},
   "outputs": [],
   "source": [
    "OUTDIR = tempfile.gettempdir()\n",
    "GRIDFN = os.path.join(OUTDIR, 'grid.nc')\n",
    "\n",
    "\n",
    "# Create a test grid\n",
    "grid = create_gridxy_global(crs=ocgis.crs.Spherical())\n",
    "field = create_exact_field(grid, 'foo')\n",
    "field.write(GRIDFN)"
   ]
  },
  {
   "cell_type": "markdown",
   "metadata": {},
   "source": []
  },
  {
   "cell_type": "code",
   "execution_count": null,
   "metadata": {},
   "outputs": [],
   "source": [
    "def apply_by_spatial_chunk(src_filename, dst_filename, nchunks, chunk_idx, **kwargs):\n",
    "    \"\"\"\n",
    "    Create a spatial chunk from source and destination CF-Grid NetCDF files. Each source and destination chunk is\n",
    "    converted to a :class:`xarray.Dataset`. See :class:`~ocgis.spatial.grid_chunker.GridChunker` for more documentation\n",
    "    on the spatial chunking.\n",
    "\n",
    "    Returns `0` if the chunking is successful.\n",
    "\n",
    "    :param str src_filename: Path to source NetCDF file.\n",
    "    :param str dst_filename: Path to destination NetCDF file.\n",
    "    :param nchunks: The chunking decomposition for the destination grid. See :class:`~ocgis.spatial.grid_chunker.GridChunker`.\n",
    "    :type nchunks: tuple(int, ...)\n",
    "    :param int chunk_idx: The target chunk index.\n",
    "    :param kwargs: Extra keyword arguments to :class:`~ocgis.spatial.grid_chunker.GridChunker` initialization.\n",
    "    :rtype: int\n",
    "    \"\"\"\n",
    "    rc = 1\n",
    "    rd_src = ocgis.RequestDataset(src_filename)\n",
    "    rd_dst = ocgis.RequestDataset(dst_filename)\n",
    "    gc = GridChunker(rd_src, rd_dst, nchunks_dst=nchunks, **kwargs)\n",
    "    for ctr, (src_grid, src_slice, dst_grid, dst_slice) in enumerate(gc.iter_src_grid_subsets(yield_dst=True, yield_idx=chunk_idx)):\n",
    "        xsrc = src_grid.parent.to_xarray(decode_cf=False)\n",
    "        xdst = dst_grid.parent.to_xarray(decode_cf=False)\n",
    "        rc = 0\n",
    "    assert ctr == 0  # Ensure we only have a single loop\n",
    "    return rc"
   ]
  },
  {
   "cell_type": "markdown",
   "metadata": {},
   "source": []
  },
  {
   "cell_type": "code",
   "execution_count": null,
   "metadata": {},
   "outputs": [],
   "source": [
    "nchunks = (5, 5)  # The chunking decomposition for the destination grid. Five chunks along each spatial dimension.\n",
    "results = []  # Will hold integer return codes (a placeholder for another return type)\n",
    "for ii in range(np.prod(nchunks)):  # Each chunk is a separate dask task\n",
    "    d = dask.delayed(apply_by_spatial_chunk)(GRIDFN, GRIDFN, nchunks, ii)  # Graph the chunking decomposition\n",
    "    results.append(d)\n",
    "\n",
    "dask.delayed(print)(results).compute(scheduler='threads')"
   ]
  }
 ],
 "metadata": {
  "kernelspec": {
   "display_name": "Python 2",
   "language": "python",
   "name": "python2"
  },
  "language_info": {
   "codemirror_mode": {
    "name": "ipython",
    "version": 2
   },
   "file_extension": ".py",
   "mimetype": "text/x-python",
   "name": "python",
   "nbconvert_exporter": "python",
   "pygments_lexer": "ipython2",
   "version": "2.7.6"
  }
 },
 "nbformat": 4,
 "nbformat_minor": 0
}
