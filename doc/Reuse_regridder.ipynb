{
 "cells": [
  {
   "cell_type": "markdown",
   "metadata": {},
   "source": [
    "# Save time by reusing regridder"
   ]
  },
  {
   "cell_type": "markdown",
   "metadata": {},
   "source": [
    "There is an important reason why the regridding is broken into two steps (making the regridder and perform regridding). For high-resolution grids, making the regridder (i.e. \"computing regridding weights\", explained later) is quite computationally expensive, but performing regridding on data (\"applying regridding weights\") is still pretty fast."
   ]
  },
  {
   "cell_type": "code",
   "execution_count": 1,
   "metadata": {
    "collapsed": true
   },
   "outputs": [],
   "source": [
    "%matplotlib inline\n",
    "import matplotlib.pyplot as plt\n",
    "import numpy as np\n",
    "import xarray as xr\n",
    "import xesmf as xe"
   ]
  },
  {
   "cell_type": "markdown",
   "metadata": {},
   "source": [
    "## Prepare data"
   ]
  },
  {
   "cell_type": "markdown",
   "metadata": {},
   "source": [
    "The grids in previous examples were all quite small and the regridding was almost instantaneous. Let's try a large-ish grid here."
   ]
  },
  {
   "cell_type": "code",
   "execution_count": 2,
   "metadata": {},
   "outputs": [
    {
     "data": {
      "text/plain": [
       "<xarray.Dataset>\n",
       "Dimensions:  (x: 600, x_b: 601, y: 400, y_b: 401)\n",
       "Coordinates:\n",
       "    lon      (y, x) float64 -119.8 -119.4 -119.0 -118.6 -118.2 -117.8 -117.4 ...\n",
       "    lat      (y, x) float64 -59.85 -59.85 -59.85 -59.85 -59.85 -59.85 -59.85 ...\n",
       "    lon_b    (y_b, x_b) float64 -120.0 -119.6 -119.2 -118.8 -118.4 -118.0 ...\n",
       "    lat_b    (y_b, x_b) float64 -60.0 -60.0 -60.0 -60.0 -60.0 -60.0 -60.0 ...\n",
       "Dimensions without coordinates: x, x_b, y, y_b\n",
       "Data variables:\n",
       "    *empty*"
      ]
     },
     "execution_count": 2,
     "metadata": {},
     "output_type": "execute_result"
    }
   ],
   "source": [
    "ds_in = xe.util.grid_2d(-120, 120, 0.4,  # longitude range and resolution\n",
    "                        -60, 60, 0.3)  # latitude range and resolution\n",
    "ds_in"
   ]
  },
  {
   "cell_type": "code",
   "execution_count": 3,
   "metadata": {},
   "outputs": [
    {
     "data": {
      "text/plain": [
       "<xarray.Dataset>\n",
       "Dimensions:  (x: 400, x_b: 401, y: 300, y_b: 301)\n",
       "Coordinates:\n",
       "    lon      (y, x) float64 -119.7 -119.1 -118.5 -117.9 -117.3 -116.7 -116.1 ...\n",
       "    lat      (y, x) float64 -59.8 -59.8 -59.8 -59.8 -59.8 -59.8 -59.8 -59.8 ...\n",
       "    lon_b    (y_b, x_b) float64 -120.0 -119.4 -118.8 -118.2 -117.6 -117.0 ...\n",
       "    lat_b    (y_b, x_b) float64 -60.0 -60.0 -60.0 -60.0 -60.0 -60.0 -60.0 ...\n",
       "Dimensions without coordinates: x, x_b, y, y_b\n",
       "Data variables:\n",
       "    *empty*"
      ]
     },
     "execution_count": 3,
     "metadata": {},
     "output_type": "execute_result"
    }
   ],
   "source": [
    "ds_out = xe.util.grid_2d(-120, 120, 0.6,\n",
    "                         -60, 60, 0.4)\n",
    "ds_out"
   ]
  },
  {
   "cell_type": "markdown",
   "metadata": {},
   "source": [
    "Also make a large-ish 4D data, with multiple time frames and vertical levels."
   ]
  },
  {
   "cell_type": "code",
   "execution_count": 4,
   "metadata": {},
   "outputs": [
    {
     "data": {
      "text/plain": [
       "<xarray.Dataset>\n",
       "Dimensions:  (lev: 50, time: 10, x: 600, x_b: 601, y: 400, y_b: 401)\n",
       "Coordinates:\n",
       "    lon      (y, x) float64 -119.8 -119.4 -119.0 -118.6 -118.2 -117.8 -117.4 ...\n",
       "    lat      (y, x) float64 -59.85 -59.85 -59.85 -59.85 -59.85 -59.85 -59.85 ...\n",
       "    lon_b    (y_b, x_b) float64 -120.0 -119.6 -119.2 -118.8 -118.4 -118.0 ...\n",
       "    lat_b    (y_b, x_b) float64 -60.0 -60.0 -60.0 -60.0 -60.0 -60.0 -60.0 ...\n",
       "  * time     (time) int64 1 2 3 4 5 6 7 8 9 10\n",
       "  * lev      (lev) int64 1 2 3 4 5 6 7 8 9 10 11 12 13 14 15 16 17 18 19 20 ...\n",
       "Dimensions without coordinates: x, x_b, y, y_b\n",
       "Data variables:\n",
       "    data2D   (y, x) float64 1.872 1.869 1.866 1.863 1.86 1.857 1.855 1.852 ...\n",
       "    data4D   (time, lev, y, x) float64 1.872 1.869 1.866 1.863 1.86 1.857 ..."
      ]
     },
     "execution_count": 4,
     "metadata": {},
     "output_type": "execute_result"
    }
   ],
   "source": [
    "ds_in.coords['time'] = np.arange(1, 11)\n",
    "ds_in.coords['lev'] = np.arange(1, 51)\n",
    "ds_in['data2D'] = xe.data.wave_smooth(ds_in['lon'], ds_in['lat'])\n",
    "ds_in['data4D'] = ds_in['time'] * ds_in['lev'] * ds_in['data2D']\n",
    "ds_in"
   ]
  },
  {
   "cell_type": "markdown",
   "metadata": {},
   "source": [
    "It is almost 1GB!"
   ]
  },
  {
   "cell_type": "code",
   "execution_count": 5,
   "metadata": {},
   "outputs": [
    {
     "data": {
      "text/plain": [
       "0.96"
      ]
     },
     "execution_count": 5,
     "metadata": {},
     "output_type": "execute_result"
    }
   ],
   "source": [
    "ds_in['data4D'].nbytes / 1e9 # Byte -> GB"
   ]
  },
  {
   "cell_type": "markdown",
   "metadata": {},
   "source": [
    "The data itself is not too interesting... We only focus on performance here."
   ]
  },
  {
   "cell_type": "code",
   "execution_count": 6,
   "metadata": {},
   "outputs": [
    {
     "data": {
      "text/plain": [
       "<matplotlib.text.Text at 0x1198b8940>"
      ]
     },
     "execution_count": 6,
     "metadata": {},
     "output_type": "execute_result"
    },
    {
     "data": {
      "image/png": "[encoded data removed]",
      "text/plain": [
       "<matplotlib.figure.Figure at 0x10e76a4a8>"
      ]
     },
     "metadata": {},
     "output_type": "display_data"
    }
   ],
   "source": [
    "plt.figure(figsize=[12, 3])\n",
    "\n",
    "plt.subplot(121)\n",
    "ds_in['data4D'].isel(time=0, lev=0).plot()\n",
    "plt.title('2D field')\n",
    "\n",
    "plt.subplot(122)\n",
    "ds_in['data4D'].mean(dim=['x','y']).plot()\n",
    "plt.title('extra dimensions to test broadcasting')"
   ]
  },
  {
   "cell_type": "markdown",
   "metadata": {},
   "source": [
    "## Build Regridder"
   ]
  },
  {
   "cell_type": "markdown",
   "metadata": {},
   "source": [
    "Making a bilinear regridder takes ~7s on my Mac! (`'conservative'` would take even longer. Try it yourself.)"
   ]
  },
  {
   "cell_type": "code",
   "execution_count": 7,
   "metadata": {},
   "outputs": [
    {
     "name": "stdout",
     "output_type": "stream",
     "text": [
      "Create weight file: bilinear_400x600_300x400.nc\n",
      "CPU times: user 7.15 s, sys: 458 ms, total: 7.61 s\n",
      "Wall time: 7.72 s\n"
     ]
    }
   ],
   "source": [
    "%%time\n",
    "regridder = xe.Regridder(ds_in, ds_out, 'bilinear')"
   ]
  },
  {
   "cell_type": "code",
   "execution_count": 8,
   "metadata": {},
   "outputs": [
    {
     "data": {
      "text/plain": [
       "xESMF Regridder \n",
       "Regridding algorithm:       bilinear \n",
       "Weight filename:            bilinear_400x600_300x400.nc \n",
       "Reuse pre-computed weights? False \n",
       "Input grid shape:           (400, 600) \n",
       "Output grid shape:          (300, 400) \n",
       "Output grid dimension name: ('y', 'x') \n",
       "Periodic in longitude?      False"
      ]
     },
     "execution_count": 8,
     "metadata": {},
     "output_type": "execute_result"
    }
   ],
   "source": [
    "regridder"
   ]
  },
  {
   "cell_type": "markdown",
   "metadata": {},
   "source": [
    "## Apply regridding"
   ]
  },
  {
   "cell_type": "markdown",
   "metadata": {},
   "source": [
    "However, applying the regridder to 1GB of data only takes ~0.5s"
   ]
  },
  {
   "cell_type": "code",
   "execution_count": 9,
   "metadata": {},
   "outputs": [
    {
     "name": "stdout",
     "output_type": "stream",
     "text": [
      "CPU times: user 429 ms, sys: 153 ms, total: 582 ms\n",
      "Wall time: 586 ms\n"
     ]
    }
   ],
   "source": [
    "%%time\n",
    "dr_out = regridder(ds_in['data4D'])"
   ]
  },
  {
   "cell_type": "markdown",
   "metadata": {},
   "source": [
    "## Why applying regridding is so fast?"
   ]
  },
  {
   "cell_type": "markdown",
   "metadata": {},
   "source": [
    "Most regridding algorithms (including all 5 algorithms in ESMF) are linear, i.e. the output data field is linearly dependent on the input data field. Any linear transform can be viewed as a matrix-vector multiplication $y = Ax$, where $A$ is a matrix containing **regridding weights**, and $x$, $y$ are input and output data fields flatten to 1D."
   ]
  },
  {
   "cell_type": "markdown",
   "metadata": {},
   "source": [
    "Computing the **weight matrix** $A$ is expensive, but $A$ **only depends on input and output grids**, not on input data. That means we can use the same $A$ on different input fields $x$, as long as the grid structure is not changed. "
   ]
  },
  {
   "cell_type": "markdown",
   "metadata": {},
   "source": [
    "An xESMF regridder has an attribute `A`, i.e. the weight matrix."
   ]
  },
  {
   "cell_type": "code",
   "execution_count": 10,
   "metadata": {},
   "outputs": [
    {
     "data": {
      "text/plain": [
       "<120000x240000 sparse matrix of type '<class 'numpy.float64'>'\n",
       "\twith 480000 stored elements in COOrdinate format>"
      ]
     },
     "execution_count": 10,
     "metadata": {},
     "output_type": "execute_result"
    }
   ],
   "source": [
    "regridder.A"
   ]
  },
  {
   "cell_type": "markdown",
   "metadata": {},
   "source": [
    "It is typically very sparse, because a single destination point will only receive contribution from a small number of source points."
   ]
  },
  {
   "cell_type": "code",
   "execution_count": 11,
   "metadata": {},
   "outputs": [
    {
     "data": {
      "text/plain": [
       "<matplotlib.text.Text at 0x11a306160>"
      ]
     },
     "execution_count": 11,
     "metadata": {},
     "output_type": "execute_result"
    },
    {
     "data": {
      "image/png": "[encoded data removed]",
      "text/plain": [
       "<matplotlib.figure.Figure at 0x119931710>"
      ]
     },
     "metadata": {},
     "output_type": "display_data"
    }
   ],
   "source": [
    "plt.spy(regridder.A)\n",
    "plt.xlabel('input grid indices')\n",
    "plt.ylabel('output grid indices')"
   ]
  },
  {
   "cell_type": "markdown",
   "metadata": {},
   "source": [
    "## Retrieve regridder"
   ]
  },
  {
   "cell_type": "markdown",
   "metadata": {},
   "source": [
    "When you open the notebook next time, instead of spending another ~7s on recomputing the weights, you can simply set `reuse_weights=True` to read existing weights from disk.\n",
    "\n",
    "The weight file is typically pretty small (due to sparsity), so reading it is almost instantaneous."
   ]
  },
  {
   "cell_type": "code",
   "execution_count": 12,
   "metadata": {},
   "outputs": [
    {
     "name": "stdout",
     "output_type": "stream",
     "text": [
      "7.3M\tbilinear_400x600_300x400.nc\n"
     ]
    }
   ],
   "source": [
    "%%bash\n",
    "du -sh bilinear_400x600_300x400.nc"
   ]
  },
  {
   "cell_type": "code",
   "execution_count": 13,
   "metadata": {},
   "outputs": [
    {
     "name": "stdout",
     "output_type": "stream",
     "text": [
      "Reuse existing file: bilinear_400x600_300x400.nc\n",
      "CPU times: user 23.4 ms, sys: 12.9 ms, total: 36.3 ms\n",
      "Wall time: 36.2 ms\n"
     ]
    }
   ],
   "source": [
    "%%time\n",
    "regridder2 = xe.Regridder(ds_in, ds_out, 'bilinear', reuse_weights=True)"
   ]
  },
  {
   "cell_type": "markdown",
   "metadata": {},
   "source": [
    "The second-step, applying those weights to data, is just a matrix multiplication $y=Ax$. With highly-optimized sparse matrix multiplication library, it is blazingly fast."
   ]
  },
  {
   "cell_type": "code",
   "execution_count": 14,
   "metadata": {},
   "outputs": [
    {
     "name": "stdout",
     "output_type": "stream",
     "text": [
      "CPU times: user 460 ms, sys: 164 ms, total: 624 ms\n",
      "Wall time: 628 ms\n"
     ]
    }
   ],
   "source": [
    "%%time\n",
    "dr_out2 = regridder2(ds_in['data4D'])"
   ]
  },
  {
   "cell_type": "markdown",
   "metadata": {},
   "source": [
    "The retrieved regridder gives the same result as the first regridder."
   ]
  },
  {
   "cell_type": "code",
   "execution_count": 15,
   "metadata": {
    "collapsed": true
   },
   "outputs": [],
   "source": [
    "xr.testing.assert_identical(dr_out, dr_out2)  # they are equal"
   ]
  },
  {
   "cell_type": "markdown",
   "metadata": {},
   "source": [
    "For even larger grids, you might spend several minutes computing the weights. But once they are computed, you don't have to do it again."
   ]
  },
  {
   "cell_type": "code",
   "execution_count": 16,
   "metadata": {},
   "outputs": [
    {
     "name": "stdout",
     "output_type": "stream",
     "text": [
      "Remove file bilinear_400x600_300x400.nc\n"
     ]
    }
   ],
   "source": [
    "# don't have to clean it if you want to use it next time\n",
    "regridder2.clean_weight_file()  "
   ]
  }
 ],
 "metadata": {
  "kernelspec": {
   "display_name": "Python 3",
   "language": "python",
   "name": "python3"
  },
  "language_info": {
   "codemirror_mode": {
    "name": "ipython",
    "version": 3
   },
   "file_extension": ".py",
   "mimetype": "text/x-python",
   "name": "python",
   "nbconvert_exporter": "python",
   "pygments_lexer": "ipython3",
   "version": "3.6.2"
  },
  "toc": {
   "nav_menu": {},
   "number_sections": true,
   "sideBar": true,
   "skip_h1_title": false,
   "toc_cell": false,
   "toc_position": {},
   "toc_section_display": "block",
   "toc_window_display": true
  }
 },
 "nbformat": 4,
 "nbformat_minor": 2
}
